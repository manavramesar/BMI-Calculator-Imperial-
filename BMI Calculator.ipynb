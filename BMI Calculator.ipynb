{
 "cells": [
  {
   "cell_type": "markdown",
   "id": "08649213",
   "metadata": {},
   "source": [
    "# Code"
   ]
  },
  {
   "cell_type": "code",
   "execution_count": null,
   "id": "23f25db7",
   "metadata": {},
   "outputs": [],
   "source": [
    "weight = int(input(\"Enter your weight in pounds: \"))"
   ]
  },
  {
   "cell_type": "code",
   "execution_count": null,
   "id": "8886fc59",
   "metadata": {},
   "outputs": [],
   "source": [
    "height = int(input(\"Enter your height in inches: \"))"
   ]
  },
  {
   "cell_type": "code",
   "execution_count": null,
   "id": "cd64ed51",
   "metadata": {},
   "outputs": [],
   "source": [
    "BMI = (weight * 703) / (height * height)"
   ]
  },
  {
   "cell_type": "code",
   "execution_count": null,
   "id": "c634f555",
   "metadata": {},
   "outputs": [],
   "source": [
    "if BMI > 0:\n",
    "    if(BMI < 18.5):\n",
    "        print('Underweight')\n",
    "    elif(BMI <= 24.9):\n",
    "        print('Normal')\n",
    "    elif(BMI <= 29.9):\n",
    "        print('Overweight')\n",
    "    elif(BMI <= 34.9):\n",
    "        print('Obese')\n",
    "    elif(BMI <= 39.9):\n",
    "        print('Severely Obese')\n",
    "    elif(BMI >= 40):\n",
    "        print('Morbidly Obese')\n",
    "else:\n",
    "    print(\"Enter valid input\")    "
   ]
  },
  {
   "cell_type": "markdown",
   "id": "1eed2355",
   "metadata": {},
   "source": [
    "# Final"
   ]
  },
  {
   "cell_type": "code",
   "execution_count": 6,
   "id": "8945195c",
   "metadata": {},
   "outputs": [
    {
     "name": "stdout",
     "output_type": "stream",
     "text": [
      "Enter your weight in pounds: 139\n",
      "Enter your height in inches: 70\n",
      "19.942244897959185\n",
      "Normal\n"
     ]
    }
   ],
   "source": [
    "weight = int(input(\"Enter your weight in pounds: \"))\n",
    "\n",
    "height = int(input(\"Enter your height in inches: \"))\n",
    "\n",
    "BMI = (weight * 703) / (height * height)\n",
    "\n",
    "print(BMI)\n",
    "\n",
    "if BMI > 0:\n",
    "    if(BMI < 18.5):\n",
    "        print('Underweight')\n",
    "    elif(BMI <= 24.9):\n",
    "        print('Normal')\n",
    "    elif(BMI <= 29.9):\n",
    "        print('Overweight')\n",
    "    elif(BMI <= 34.9):\n",
    "        print('Obese')\n",
    "    elif(BMI <= 39.9):\n",
    "        print('Severely Obese')\n",
    "    elif(BMI >= 40):\n",
    "        print('Morbidly Obese')\n",
    "else:\n",
    "    print(\"Enter valid input\")    "
   ]
  },
  {
   "cell_type": "code",
   "execution_count": null,
   "id": "cfa74779",
   "metadata": {},
   "outputs": [],
   "source": []
  }
 ],
 "metadata": {
  "kernelspec": {
   "display_name": "Python 3 (ipykernel)",
   "language": "python",
   "name": "python3"
  },
  "language_info": {
   "codemirror_mode": {
    "name": "ipython",
    "version": 3
   },
   "file_extension": ".py",
   "mimetype": "text/x-python",
   "name": "python",
   "nbconvert_exporter": "python",
   "pygments_lexer": "ipython3",
   "version": "3.11.5"
  }
 },
 "nbformat": 4,
 "nbformat_minor": 5
}
